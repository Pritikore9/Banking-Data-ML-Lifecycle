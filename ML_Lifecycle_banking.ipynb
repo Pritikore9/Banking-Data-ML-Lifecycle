{
 "cells": [
  {
   "cell_type": "code",
   "execution_count": 1,
   "id": "dca6092a",
   "metadata": {},
   "outputs": [],
   "source": [
    "import pandas as pd         #1\n",
    "import numpy as np          #2\n",
    "import seaborn as sns       #3"
   ]
  },
  {
   "cell_type": "code",
   "execution_count": 2,
   "id": "c9c3307f",
   "metadata": {},
   "outputs": [],
   "source": [
    "data=pd.read_csv(r\"C:\\Users\\Lenovo\\Desktop\\Python\\Datasets\\banking.csv\")"
   ]
  },
  {
   "cell_type": "code",
   "execution_count": 3,
   "id": "7ec6fd8e",
   "metadata": {},
   "outputs": [
    {
     "data": {
      "text/html": [
       "<div>\n",
       "<style scoped>\n",
       "    .dataframe tbody tr th:only-of-type {\n",
       "        vertical-align: middle;\n",
       "    }\n",
       "\n",
       "    .dataframe tbody tr th {\n",
       "        vertical-align: top;\n",
       "    }\n",
       "\n",
       "    .dataframe thead th {\n",
       "        text-align: right;\n",
       "    }\n",
       "</style>\n",
       "<table border=\"1\" class=\"dataframe\">\n",
       "  <thead>\n",
       "    <tr style=\"text-align: right;\">\n",
       "      <th></th>\n",
       "      <th>Unnamed: 0</th>\n",
       "      <th>age</th>\n",
       "      <th>job</th>\n",
       "      <th>marital</th>\n",
       "      <th>education</th>\n",
       "      <th>default</th>\n",
       "      <th>balance</th>\n",
       "      <th>housing</th>\n",
       "      <th>loan</th>\n",
       "      <th>contact</th>\n",
       "      <th>day</th>\n",
       "      <th>month</th>\n",
       "      <th>duration</th>\n",
       "      <th>campaign</th>\n",
       "      <th>pdays</th>\n",
       "      <th>previous</th>\n",
       "      <th>poutcome</th>\n",
       "      <th>deposit</th>\n",
       "    </tr>\n",
       "  </thead>\n",
       "  <tbody>\n",
       "    <tr>\n",
       "      <th>0</th>\n",
       "      <td>0</td>\n",
       "      <td>41</td>\n",
       "      <td>services</td>\n",
       "      <td>married</td>\n",
       "      <td>unknown</td>\n",
       "      <td>no</td>\n",
       "      <td>88.0</td>\n",
       "      <td>yes</td>\n",
       "      <td>no</td>\n",
       "      <td>cellular</td>\n",
       "      <td>11</td>\n",
       "      <td>may</td>\n",
       "      <td>105</td>\n",
       "      <td>1</td>\n",
       "      <td>336</td>\n",
       "      <td>2.0</td>\n",
       "      <td>failure</td>\n",
       "      <td>no</td>\n",
       "    </tr>\n",
       "    <tr>\n",
       "      <th>1</th>\n",
       "      <td>1</td>\n",
       "      <td>56</td>\n",
       "      <td>technician</td>\n",
       "      <td>married</td>\n",
       "      <td>secondary</td>\n",
       "      <td>no</td>\n",
       "      <td>1938.0</td>\n",
       "      <td>no</td>\n",
       "      <td>yes</td>\n",
       "      <td>cellular</td>\n",
       "      <td>26</td>\n",
       "      <td>feb</td>\n",
       "      <td>229</td>\n",
       "      <td>1</td>\n",
       "      <td>192</td>\n",
       "      <td>4.0</td>\n",
       "      <td>success</td>\n",
       "      <td>yes</td>\n",
       "    </tr>\n",
       "    <tr>\n",
       "      <th>2</th>\n",
       "      <td>2</td>\n",
       "      <td>30</td>\n",
       "      <td>services</td>\n",
       "      <td>single</td>\n",
       "      <td>secondary</td>\n",
       "      <td>no</td>\n",
       "      <td>245.0</td>\n",
       "      <td>no</td>\n",
       "      <td>yes</td>\n",
       "      <td>cellular</td>\n",
       "      <td>8</td>\n",
       "      <td>jul</td>\n",
       "      <td>187</td>\n",
       "      <td>2</td>\n",
       "      <td>-1</td>\n",
       "      <td>0.0</td>\n",
       "      <td>unknown</td>\n",
       "      <td>no</td>\n",
       "    </tr>\n",
       "    <tr>\n",
       "      <th>3</th>\n",
       "      <td>3</td>\n",
       "      <td>34</td>\n",
       "      <td>management</td>\n",
       "      <td>single</td>\n",
       "      <td>tertiary</td>\n",
       "      <td>no</td>\n",
       "      <td>1396.0</td>\n",
       "      <td>yes</td>\n",
       "      <td>no</td>\n",
       "      <td>cellular</td>\n",
       "      <td>17</td>\n",
       "      <td>jul</td>\n",
       "      <td>630</td>\n",
       "      <td>1</td>\n",
       "      <td>-1</td>\n",
       "      <td>0.0</td>\n",
       "      <td>unknown</td>\n",
       "      <td>no</td>\n",
       "    </tr>\n",
       "    <tr>\n",
       "      <th>4</th>\n",
       "      <td>4</td>\n",
       "      <td>29</td>\n",
       "      <td>technician</td>\n",
       "      <td>single</td>\n",
       "      <td>secondary</td>\n",
       "      <td>no</td>\n",
       "      <td>-13.0</td>\n",
       "      <td>yes</td>\n",
       "      <td>no</td>\n",
       "      <td>cellular</td>\n",
       "      <td>14</td>\n",
       "      <td>may</td>\n",
       "      <td>512</td>\n",
       "      <td>3</td>\n",
       "      <td>-1</td>\n",
       "      <td>0.0</td>\n",
       "      <td>unknown</td>\n",
       "      <td>no</td>\n",
       "    </tr>\n",
       "    <tr>\n",
       "      <th>...</th>\n",
       "      <td>...</td>\n",
       "      <td>...</td>\n",
       "      <td>...</td>\n",
       "      <td>...</td>\n",
       "      <td>...</td>\n",
       "      <td>...</td>\n",
       "      <td>...</td>\n",
       "      <td>...</td>\n",
       "      <td>...</td>\n",
       "      <td>...</td>\n",
       "      <td>...</td>\n",
       "      <td>...</td>\n",
       "      <td>...</td>\n",
       "      <td>...</td>\n",
       "      <td>...</td>\n",
       "      <td>...</td>\n",
       "      <td>...</td>\n",
       "      <td>...</td>\n",
       "    </tr>\n",
       "    <tr>\n",
       "      <th>5578</th>\n",
       "      <td>5578</td>\n",
       "      <td>27</td>\n",
       "      <td>student</td>\n",
       "      <td>single</td>\n",
       "      <td>secondary</td>\n",
       "      <td>no</td>\n",
       "      <td>91.0</td>\n",
       "      <td>no</td>\n",
       "      <td>no</td>\n",
       "      <td>telephone</td>\n",
       "      <td>4</td>\n",
       "      <td>dec</td>\n",
       "      <td>157</td>\n",
       "      <td>6</td>\n",
       "      <td>95</td>\n",
       "      <td>37.0</td>\n",
       "      <td>other</td>\n",
       "      <td>no</td>\n",
       "    </tr>\n",
       "    <tr>\n",
       "      <th>5579</th>\n",
       "      <td>5579</td>\n",
       "      <td>46</td>\n",
       "      <td>blue-collar</td>\n",
       "      <td>married</td>\n",
       "      <td>secondary</td>\n",
       "      <td>no</td>\n",
       "      <td>1568.0</td>\n",
       "      <td>yes</td>\n",
       "      <td>no</td>\n",
       "      <td>cellular</td>\n",
       "      <td>2</td>\n",
       "      <td>jun</td>\n",
       "      <td>310</td>\n",
       "      <td>1</td>\n",
       "      <td>55</td>\n",
       "      <td>6.0</td>\n",
       "      <td>other</td>\n",
       "      <td>yes</td>\n",
       "    </tr>\n",
       "    <tr>\n",
       "      <th>5580</th>\n",
       "      <td>5580</td>\n",
       "      <td>39</td>\n",
       "      <td>services</td>\n",
       "      <td>married</td>\n",
       "      <td>secondary</td>\n",
       "      <td>no</td>\n",
       "      <td>0.0</td>\n",
       "      <td>yes</td>\n",
       "      <td>no</td>\n",
       "      <td>cellular</td>\n",
       "      <td>8</td>\n",
       "      <td>may</td>\n",
       "      <td>503</td>\n",
       "      <td>1</td>\n",
       "      <td>-1</td>\n",
       "      <td>0.0</td>\n",
       "      <td>unknown</td>\n",
       "      <td>no</td>\n",
       "    </tr>\n",
       "    <tr>\n",
       "      <th>5581</th>\n",
       "      <td>5579</td>\n",
       "      <td>46</td>\n",
       "      <td>blue-collar</td>\n",
       "      <td>married</td>\n",
       "      <td>secondary</td>\n",
       "      <td>no</td>\n",
       "      <td>1568.0</td>\n",
       "      <td>yes</td>\n",
       "      <td>no</td>\n",
       "      <td>cellular</td>\n",
       "      <td>2</td>\n",
       "      <td>jun</td>\n",
       "      <td>310</td>\n",
       "      <td>1</td>\n",
       "      <td>55</td>\n",
       "      <td>6.0</td>\n",
       "      <td>other</td>\n",
       "      <td>yes</td>\n",
       "    </tr>\n",
       "    <tr>\n",
       "      <th>5582</th>\n",
       "      <td>5580</td>\n",
       "      <td>39</td>\n",
       "      <td>services</td>\n",
       "      <td>married</td>\n",
       "      <td>secondary</td>\n",
       "      <td>no</td>\n",
       "      <td>0.0</td>\n",
       "      <td>yes</td>\n",
       "      <td>no</td>\n",
       "      <td>cellular</td>\n",
       "      <td>8</td>\n",
       "      <td>may</td>\n",
       "      <td>503</td>\n",
       "      <td>1</td>\n",
       "      <td>-1</td>\n",
       "      <td>0.0</td>\n",
       "      <td>unknown</td>\n",
       "      <td>no</td>\n",
       "    </tr>\n",
       "  </tbody>\n",
       "</table>\n",
       "<p>5583 rows × 18 columns</p>\n",
       "</div>"
      ],
      "text/plain": [
       "      Unnamed: 0  age          job  marital  education default  balance  \\\n",
       "0              0   41     services  married    unknown      no     88.0   \n",
       "1              1   56   technician  married  secondary      no   1938.0   \n",
       "2              2   30     services   single  secondary      no    245.0   \n",
       "3              3   34   management   single   tertiary      no   1396.0   \n",
       "4              4   29   technician   single  secondary      no    -13.0   \n",
       "...          ...  ...          ...      ...        ...     ...      ...   \n",
       "5578        5578   27      student   single  secondary      no     91.0   \n",
       "5579        5579   46  blue-collar  married  secondary      no   1568.0   \n",
       "5580        5580   39     services  married  secondary      no      0.0   \n",
       "5581        5579   46  blue-collar  married  secondary      no   1568.0   \n",
       "5582        5580   39     services  married  secondary      no      0.0   \n",
       "\n",
       "     housing loan    contact  day month  duration  campaign  pdays  previous  \\\n",
       "0        yes   no   cellular   11   may       105         1    336       2.0   \n",
       "1         no  yes   cellular   26   feb       229         1    192       4.0   \n",
       "2         no  yes   cellular    8   jul       187         2     -1       0.0   \n",
       "3        yes   no   cellular   17   jul       630         1     -1       0.0   \n",
       "4        yes   no   cellular   14   may       512         3     -1       0.0   \n",
       "...      ...  ...        ...  ...   ...       ...       ...    ...       ...   \n",
       "5578      no   no  telephone    4   dec       157         6     95      37.0   \n",
       "5579     yes   no   cellular    2   jun       310         1     55       6.0   \n",
       "5580     yes   no   cellular    8   may       503         1     -1       0.0   \n",
       "5581     yes   no   cellular    2   jun       310         1     55       6.0   \n",
       "5582     yes   no   cellular    8   may       503         1     -1       0.0   \n",
       "\n",
       "     poutcome deposit  \n",
       "0     failure      no  \n",
       "1     success     yes  \n",
       "2     unknown      no  \n",
       "3     unknown      no  \n",
       "4     unknown      no  \n",
       "...       ...     ...  \n",
       "5578    other      no  \n",
       "5579    other     yes  \n",
       "5580  unknown      no  \n",
       "5581    other     yes  \n",
       "5582  unknown      no  \n",
       "\n",
       "[5583 rows x 18 columns]"
      ]
     },
     "execution_count": 3,
     "metadata": {},
     "output_type": "execute_result"
    }
   ],
   "source": [
    "data"
   ]
  },
  {
   "cell_type": "markdown",
   "id": "0beb19a6",
   "metadata": {},
   "source": [
    "\n",
    "# Data Preprocessing & Feature Engineering"
   ]
  },
  {
   "cell_type": "code",
   "execution_count": 4,
   "id": "7db3f7f3",
   "metadata": {},
   "outputs": [
    {
     "data": {
      "text/plain": [
       "Unnamed: 0    0\n",
       "age           0\n",
       "job           0\n",
       "marital       0\n",
       "education     0\n",
       "default       0\n",
       "balance       1\n",
       "housing       0\n",
       "loan          0\n",
       "contact       0\n",
       "day           0\n",
       "month         0\n",
       "duration      0\n",
       "campaign      0\n",
       "pdays         0\n",
       "previous      1\n",
       "poutcome      1\n",
       "deposit       0\n",
       "dtype: int64"
      ]
     },
     "execution_count": 4,
     "metadata": {},
     "output_type": "execute_result"
    }
   ],
   "source": [
    "data.isnull().sum()"
   ]
  },
  {
   "cell_type": "code",
   "execution_count": 5,
   "id": "a9629e95",
   "metadata": {},
   "outputs": [],
   "source": [
    "data.dropna(inplace=True)"
   ]
  },
  {
   "cell_type": "code",
   "execution_count": 6,
   "id": "d6e556e5",
   "metadata": {},
   "outputs": [
    {
     "data": {
      "text/plain": [
       "Unnamed: 0    0\n",
       "age           0\n",
       "job           0\n",
       "marital       0\n",
       "education     0\n",
       "default       0\n",
       "balance       0\n",
       "housing       0\n",
       "loan          0\n",
       "contact       0\n",
       "day           0\n",
       "month         0\n",
       "duration      0\n",
       "campaign      0\n",
       "pdays         0\n",
       "previous      0\n",
       "poutcome      0\n",
       "deposit       0\n",
       "dtype: int64"
      ]
     },
     "execution_count": 6,
     "metadata": {},
     "output_type": "execute_result"
    }
   ],
   "source": [
    "data.isnull().sum()"
   ]
  },
  {
   "cell_type": "code",
   "execution_count": 7,
   "id": "c943c89b",
   "metadata": {
    "scrolled": true
   },
   "outputs": [
    {
     "data": {
      "text/html": [
       "<div>\n",
       "<style scoped>\n",
       "    .dataframe tbody tr th:only-of-type {\n",
       "        vertical-align: middle;\n",
       "    }\n",
       "\n",
       "    .dataframe tbody tr th {\n",
       "        vertical-align: top;\n",
       "    }\n",
       "\n",
       "    .dataframe thead th {\n",
       "        text-align: right;\n",
       "    }\n",
       "</style>\n",
       "<table border=\"1\" class=\"dataframe\">\n",
       "  <thead>\n",
       "    <tr style=\"text-align: right;\">\n",
       "      <th></th>\n",
       "      <th>Unnamed: 0</th>\n",
       "      <th>age</th>\n",
       "      <th>job</th>\n",
       "      <th>marital</th>\n",
       "      <th>education</th>\n",
       "      <th>default</th>\n",
       "      <th>balance</th>\n",
       "      <th>housing</th>\n",
       "      <th>loan</th>\n",
       "      <th>contact</th>\n",
       "      <th>day</th>\n",
       "      <th>month</th>\n",
       "      <th>duration</th>\n",
       "      <th>campaign</th>\n",
       "      <th>pdays</th>\n",
       "      <th>previous</th>\n",
       "      <th>poutcome</th>\n",
       "      <th>deposit</th>\n",
       "    </tr>\n",
       "  </thead>\n",
       "  <tbody>\n",
       "    <tr>\n",
       "      <th>0</th>\n",
       "      <td>0</td>\n",
       "      <td>41</td>\n",
       "      <td>services</td>\n",
       "      <td>married</td>\n",
       "      <td>unknown</td>\n",
       "      <td>no</td>\n",
       "      <td>88.0</td>\n",
       "      <td>yes</td>\n",
       "      <td>no</td>\n",
       "      <td>cellular</td>\n",
       "      <td>11</td>\n",
       "      <td>may</td>\n",
       "      <td>105</td>\n",
       "      <td>1</td>\n",
       "      <td>336</td>\n",
       "      <td>2.0</td>\n",
       "      <td>failure</td>\n",
       "      <td>no</td>\n",
       "    </tr>\n",
       "    <tr>\n",
       "      <th>1</th>\n",
       "      <td>1</td>\n",
       "      <td>56</td>\n",
       "      <td>technician</td>\n",
       "      <td>married</td>\n",
       "      <td>secondary</td>\n",
       "      <td>no</td>\n",
       "      <td>1938.0</td>\n",
       "      <td>no</td>\n",
       "      <td>yes</td>\n",
       "      <td>cellular</td>\n",
       "      <td>26</td>\n",
       "      <td>feb</td>\n",
       "      <td>229</td>\n",
       "      <td>1</td>\n",
       "      <td>192</td>\n",
       "      <td>4.0</td>\n",
       "      <td>success</td>\n",
       "      <td>yes</td>\n",
       "    </tr>\n",
       "    <tr>\n",
       "      <th>2</th>\n",
       "      <td>2</td>\n",
       "      <td>30</td>\n",
       "      <td>services</td>\n",
       "      <td>single</td>\n",
       "      <td>secondary</td>\n",
       "      <td>no</td>\n",
       "      <td>245.0</td>\n",
       "      <td>no</td>\n",
       "      <td>yes</td>\n",
       "      <td>cellular</td>\n",
       "      <td>8</td>\n",
       "      <td>jul</td>\n",
       "      <td>187</td>\n",
       "      <td>2</td>\n",
       "      <td>-1</td>\n",
       "      <td>0.0</td>\n",
       "      <td>unknown</td>\n",
       "      <td>no</td>\n",
       "    </tr>\n",
       "    <tr>\n",
       "      <th>3</th>\n",
       "      <td>3</td>\n",
       "      <td>34</td>\n",
       "      <td>management</td>\n",
       "      <td>single</td>\n",
       "      <td>tertiary</td>\n",
       "      <td>no</td>\n",
       "      <td>1396.0</td>\n",
       "      <td>yes</td>\n",
       "      <td>no</td>\n",
       "      <td>cellular</td>\n",
       "      <td>17</td>\n",
       "      <td>jul</td>\n",
       "      <td>630</td>\n",
       "      <td>1</td>\n",
       "      <td>-1</td>\n",
       "      <td>0.0</td>\n",
       "      <td>unknown</td>\n",
       "      <td>no</td>\n",
       "    </tr>\n",
       "    <tr>\n",
       "      <th>4</th>\n",
       "      <td>4</td>\n",
       "      <td>29</td>\n",
       "      <td>technician</td>\n",
       "      <td>single</td>\n",
       "      <td>secondary</td>\n",
       "      <td>no</td>\n",
       "      <td>-13.0</td>\n",
       "      <td>yes</td>\n",
       "      <td>no</td>\n",
       "      <td>cellular</td>\n",
       "      <td>14</td>\n",
       "      <td>may</td>\n",
       "      <td>512</td>\n",
       "      <td>3</td>\n",
       "      <td>-1</td>\n",
       "      <td>0.0</td>\n",
       "      <td>unknown</td>\n",
       "      <td>no</td>\n",
       "    </tr>\n",
       "  </tbody>\n",
       "</table>\n",
       "</div>"
      ],
      "text/plain": [
       "   Unnamed: 0  age         job  marital  education default  balance housing  \\\n",
       "0           0   41    services  married    unknown      no     88.0     yes   \n",
       "1           1   56  technician  married  secondary      no   1938.0      no   \n",
       "2           2   30    services   single  secondary      no    245.0      no   \n",
       "3           3   34  management   single   tertiary      no   1396.0     yes   \n",
       "4           4   29  technician   single  secondary      no    -13.0     yes   \n",
       "\n",
       "  loan   contact  day month  duration  campaign  pdays  previous poutcome  \\\n",
       "0   no  cellular   11   may       105         1    336       2.0  failure   \n",
       "1  yes  cellular   26   feb       229         1    192       4.0  success   \n",
       "2  yes  cellular    8   jul       187         2     -1       0.0  unknown   \n",
       "3   no  cellular   17   jul       630         1     -1       0.0  unknown   \n",
       "4   no  cellular   14   may       512         3     -1       0.0  unknown   \n",
       "\n",
       "  deposit  \n",
       "0      no  \n",
       "1     yes  \n",
       "2      no  \n",
       "3      no  \n",
       "4      no  "
      ]
     },
     "execution_count": 7,
     "metadata": {},
     "output_type": "execute_result"
    }
   ],
   "source": [
    "data.head()"
   ]
  },
  {
   "cell_type": "code",
   "execution_count": 8,
   "id": "abdefa86",
   "metadata": {},
   "outputs": [],
   "source": [
    "from sklearn.preprocessing import LabelEncoder            #4\n",
    "l=LabelEncoder()\n",
    "data[\"job\"]=l.fit_transform(data[\"job\"])\n",
    "data[\"marital\"]=l.fit_transform(data[\"marital\"])\n",
    "data[\"education\"]=l.fit_transform(data[\"education\"])\n",
    "data[\"default\"]=l.fit_transform(data[\"default\"])\n",
    "data[\"housing\"]=l.fit_transform(data[\"housing\"])\n",
    "data[\"loan\"]=l.fit_transform(data[\"loan\"])\n",
    "data[\"contact\"]=l.fit_transform(data[\"contact\"])\n",
    "data[\"month\"]=l.fit_transform(data[\"month\"])\n",
    "data[\"poutcome\"]=l.fit_transform(data[\"poutcome\"])\n",
    "data[\"deposit\"]=l.fit_transform(data[\"deposit\"])"
   ]
  },
  {
   "cell_type": "code",
   "execution_count": 9,
   "id": "d69dc41a",
   "metadata": {
    "scrolled": true
   },
   "outputs": [
    {
     "data": {
      "text/html": [
       "<div>\n",
       "<style scoped>\n",
       "    .dataframe tbody tr th:only-of-type {\n",
       "        vertical-align: middle;\n",
       "    }\n",
       "\n",
       "    .dataframe tbody tr th {\n",
       "        vertical-align: top;\n",
       "    }\n",
       "\n",
       "    .dataframe thead th {\n",
       "        text-align: right;\n",
       "    }\n",
       "</style>\n",
       "<table border=\"1\" class=\"dataframe\">\n",
       "  <thead>\n",
       "    <tr style=\"text-align: right;\">\n",
       "      <th></th>\n",
       "      <th>Unnamed: 0</th>\n",
       "      <th>age</th>\n",
       "      <th>job</th>\n",
       "      <th>marital</th>\n",
       "      <th>education</th>\n",
       "      <th>default</th>\n",
       "      <th>balance</th>\n",
       "      <th>housing</th>\n",
       "      <th>loan</th>\n",
       "      <th>contact</th>\n",
       "      <th>day</th>\n",
       "      <th>month</th>\n",
       "      <th>duration</th>\n",
       "      <th>campaign</th>\n",
       "      <th>pdays</th>\n",
       "      <th>previous</th>\n",
       "      <th>poutcome</th>\n",
       "      <th>deposit</th>\n",
       "    </tr>\n",
       "  </thead>\n",
       "  <tbody>\n",
       "    <tr>\n",
       "      <th>0</th>\n",
       "      <td>0</td>\n",
       "      <td>41</td>\n",
       "      <td>7</td>\n",
       "      <td>1</td>\n",
       "      <td>3</td>\n",
       "      <td>0</td>\n",
       "      <td>88.0</td>\n",
       "      <td>1</td>\n",
       "      <td>0</td>\n",
       "      <td>0</td>\n",
       "      <td>11</td>\n",
       "      <td>8</td>\n",
       "      <td>105</td>\n",
       "      <td>1</td>\n",
       "      <td>336</td>\n",
       "      <td>2.0</td>\n",
       "      <td>0</td>\n",
       "      <td>0</td>\n",
       "    </tr>\n",
       "    <tr>\n",
       "      <th>1</th>\n",
       "      <td>1</td>\n",
       "      <td>56</td>\n",
       "      <td>9</td>\n",
       "      <td>1</td>\n",
       "      <td>1</td>\n",
       "      <td>0</td>\n",
       "      <td>1938.0</td>\n",
       "      <td>0</td>\n",
       "      <td>1</td>\n",
       "      <td>0</td>\n",
       "      <td>26</td>\n",
       "      <td>3</td>\n",
       "      <td>229</td>\n",
       "      <td>1</td>\n",
       "      <td>192</td>\n",
       "      <td>4.0</td>\n",
       "      <td>2</td>\n",
       "      <td>1</td>\n",
       "    </tr>\n",
       "    <tr>\n",
       "      <th>2</th>\n",
       "      <td>2</td>\n",
       "      <td>30</td>\n",
       "      <td>7</td>\n",
       "      <td>2</td>\n",
       "      <td>1</td>\n",
       "      <td>0</td>\n",
       "      <td>245.0</td>\n",
       "      <td>0</td>\n",
       "      <td>1</td>\n",
       "      <td>0</td>\n",
       "      <td>8</td>\n",
       "      <td>5</td>\n",
       "      <td>187</td>\n",
       "      <td>2</td>\n",
       "      <td>-1</td>\n",
       "      <td>0.0</td>\n",
       "      <td>3</td>\n",
       "      <td>0</td>\n",
       "    </tr>\n",
       "    <tr>\n",
       "      <th>3</th>\n",
       "      <td>3</td>\n",
       "      <td>34</td>\n",
       "      <td>4</td>\n",
       "      <td>2</td>\n",
       "      <td>2</td>\n",
       "      <td>0</td>\n",
       "      <td>1396.0</td>\n",
       "      <td>1</td>\n",
       "      <td>0</td>\n",
       "      <td>0</td>\n",
       "      <td>17</td>\n",
       "      <td>5</td>\n",
       "      <td>630</td>\n",
       "      <td>1</td>\n",
       "      <td>-1</td>\n",
       "      <td>0.0</td>\n",
       "      <td>3</td>\n",
       "      <td>0</td>\n",
       "    </tr>\n",
       "    <tr>\n",
       "      <th>4</th>\n",
       "      <td>4</td>\n",
       "      <td>29</td>\n",
       "      <td>9</td>\n",
       "      <td>2</td>\n",
       "      <td>1</td>\n",
       "      <td>0</td>\n",
       "      <td>-13.0</td>\n",
       "      <td>1</td>\n",
       "      <td>0</td>\n",
       "      <td>0</td>\n",
       "      <td>14</td>\n",
       "      <td>8</td>\n",
       "      <td>512</td>\n",
       "      <td>3</td>\n",
       "      <td>-1</td>\n",
       "      <td>0.0</td>\n",
       "      <td>3</td>\n",
       "      <td>0</td>\n",
       "    </tr>\n",
       "  </tbody>\n",
       "</table>\n",
       "</div>"
      ],
      "text/plain": [
       "   Unnamed: 0  age  job  marital  education  default  balance  housing  loan  \\\n",
       "0           0   41    7        1          3        0     88.0        1     0   \n",
       "1           1   56    9        1          1        0   1938.0        0     1   \n",
       "2           2   30    7        2          1        0    245.0        0     1   \n",
       "3           3   34    4        2          2        0   1396.0        1     0   \n",
       "4           4   29    9        2          1        0    -13.0        1     0   \n",
       "\n",
       "   contact  day  month  duration  campaign  pdays  previous  poutcome  deposit  \n",
       "0        0   11      8       105         1    336       2.0         0        0  \n",
       "1        0   26      3       229         1    192       4.0         2        1  \n",
       "2        0    8      5       187         2     -1       0.0         3        0  \n",
       "3        0   17      5       630         1     -1       0.0         3        0  \n",
       "4        0   14      8       512         3     -1       0.0         3        0  "
      ]
     },
     "execution_count": 9,
     "metadata": {},
     "output_type": "execute_result"
    }
   ],
   "source": [
    "data.head()"
   ]
  },
  {
   "cell_type": "code",
   "execution_count": 10,
   "id": "b8895f64",
   "metadata": {},
   "outputs": [],
   "source": [
    "x=data.iloc[:,:-1].values\n",
    "y=data.iloc[:,-1].values"
   ]
  },
  {
   "cell_type": "code",
   "execution_count": 11,
   "id": "e72a09da",
   "metadata": {},
   "outputs": [
    {
     "data": {
      "text/plain": [
       "0    2958\n",
       "1    2622\n",
       "Name: deposit, dtype: int64"
      ]
     },
     "execution_count": 11,
     "metadata": {},
     "output_type": "execute_result"
    }
   ],
   "source": [
    "data[\"deposit\"].value_counts()"
   ]
  },
  {
   "cell_type": "markdown",
   "id": "3820ce18",
   "metadata": {},
   "source": [
    "# Feature Scaling "
   ]
  },
  {
   "cell_type": "code",
   "execution_count": 12,
   "id": "3d0db0dc",
   "metadata": {},
   "outputs": [],
   "source": [
    "from sklearn.preprocessing import StandardScaler                       #5\n",
    "sc=StandardScaler()\n",
    "Sc=sc.fit(x)\n",
    "Scaler_data=sc.transform(x)"
   ]
  },
  {
   "cell_type": "code",
   "execution_count": 13,
   "id": "056205ad",
   "metadata": {},
   "outputs": [
    {
     "data": {
      "text/plain": [
       "array([[-1.73346982, -0.01406746,  0.79773447, ...,  2.55932401,\n",
       "         0.49687631, -2.43029246],\n",
       "       [-1.73284905,  1.24388803,  1.42384858, ...,  1.25910251,\n",
       "         1.36168288, -0.45763526],\n",
       "       [-1.73222828, -0.93656815,  0.79773447, ..., -0.48355547,\n",
       "        -0.36793025,  0.52869334],\n",
       "       ...,\n",
       "       [ 1.73043472, -0.18179486,  0.79773447, ..., -0.48355547,\n",
       "        -0.36793025,  0.52869334],\n",
       "       [ 1.72981395,  0.40525104, -1.08060789, ...,  0.02208622,\n",
       "         2.22648944, -1.44396386],\n",
       "       [ 1.73043472, -0.18179486,  0.79773447, ..., -0.48355547,\n",
       "        -0.36793025,  0.52869334]])"
      ]
     },
     "execution_count": 13,
     "metadata": {},
     "output_type": "execute_result"
    }
   ],
   "source": [
    "Scaler_data"
   ]
  },
  {
   "cell_type": "code",
   "execution_count": 14,
   "id": "1428fa6d",
   "metadata": {},
   "outputs": [],
   "source": [
    "dataset=pd.DataFrame(Scaler_data)"
   ]
  },
  {
   "cell_type": "code",
   "execution_count": 15,
   "id": "31341997",
   "metadata": {},
   "outputs": [
    {
     "data": {
      "text/html": [
       "<div>\n",
       "<style scoped>\n",
       "    .dataframe tbody tr th:only-of-type {\n",
       "        vertical-align: middle;\n",
       "    }\n",
       "\n",
       "    .dataframe tbody tr th {\n",
       "        vertical-align: top;\n",
       "    }\n",
       "\n",
       "    .dataframe thead th {\n",
       "        text-align: right;\n",
       "    }\n",
       "</style>\n",
       "<table border=\"1\" class=\"dataframe\">\n",
       "  <thead>\n",
       "    <tr style=\"text-align: right;\">\n",
       "      <th></th>\n",
       "      <th>0</th>\n",
       "      <th>1</th>\n",
       "      <th>2</th>\n",
       "      <th>3</th>\n",
       "      <th>4</th>\n",
       "      <th>5</th>\n",
       "      <th>6</th>\n",
       "      <th>7</th>\n",
       "      <th>8</th>\n",
       "      <th>9</th>\n",
       "      <th>10</th>\n",
       "      <th>11</th>\n",
       "      <th>12</th>\n",
       "      <th>13</th>\n",
       "      <th>14</th>\n",
       "      <th>15</th>\n",
       "      <th>16</th>\n",
       "    </tr>\n",
       "  </thead>\n",
       "  <tbody>\n",
       "    <tr>\n",
       "      <th>0</th>\n",
       "      <td>-1.733470</td>\n",
       "      <td>-0.014067</td>\n",
       "      <td>0.797734</td>\n",
       "      <td>-0.338330</td>\n",
       "      <td>2.284442</td>\n",
       "      <td>-0.123628</td>\n",
       "      <td>-0.436753</td>\n",
       "      <td>1.050371</td>\n",
       "      <td>-0.384286</td>\n",
       "      <td>-0.591429</td>\n",
       "      <td>-0.554435</td>\n",
       "      <td>0.796720</td>\n",
       "      <td>-0.765033</td>\n",
       "      <td>-0.543753</td>\n",
       "      <td>2.559324</td>\n",
       "      <td>0.496876</td>\n",
       "      <td>-2.430292</td>\n",
       "    </tr>\n",
       "    <tr>\n",
       "      <th>1</th>\n",
       "      <td>-1.732849</td>\n",
       "      <td>1.243888</td>\n",
       "      <td>1.423849</td>\n",
       "      <td>-0.338330</td>\n",
       "      <td>-0.386804</td>\n",
       "      <td>-0.123628</td>\n",
       "      <td>0.129618</td>\n",
       "      <td>-0.952045</td>\n",
       "      <td>2.602227</td>\n",
       "      <td>-0.591429</td>\n",
       "      <td>1.218284</td>\n",
       "      <td>-0.772091</td>\n",
       "      <td>-0.404681</td>\n",
       "      <td>-0.543753</td>\n",
       "      <td>1.259103</td>\n",
       "      <td>1.361683</td>\n",
       "      <td>-0.457635</td>\n",
       "    </tr>\n",
       "    <tr>\n",
       "      <th>2</th>\n",
       "      <td>-1.732228</td>\n",
       "      <td>-0.936568</td>\n",
       "      <td>0.797734</td>\n",
       "      <td>1.256163</td>\n",
       "      <td>-0.386804</td>\n",
       "      <td>-0.123628</td>\n",
       "      <td>-0.388688</td>\n",
       "      <td>-0.952045</td>\n",
       "      <td>2.602227</td>\n",
       "      <td>-0.591429</td>\n",
       "      <td>-0.908979</td>\n",
       "      <td>-0.144567</td>\n",
       "      <td>-0.526736</td>\n",
       "      <td>-0.182675</td>\n",
       "      <td>-0.483555</td>\n",
       "      <td>-0.367930</td>\n",
       "      <td>0.528693</td>\n",
       "    </tr>\n",
       "    <tr>\n",
       "      <th>3</th>\n",
       "      <td>-1.731608</td>\n",
       "      <td>-0.601113</td>\n",
       "      <td>-0.141437</td>\n",
       "      <td>1.256163</td>\n",
       "      <td>0.948819</td>\n",
       "      <td>-0.123628</td>\n",
       "      <td>-0.036313</td>\n",
       "      <td>1.050371</td>\n",
       "      <td>-0.384286</td>\n",
       "      <td>-0.591429</td>\n",
       "      <td>0.154652</td>\n",
       "      <td>-0.144567</td>\n",
       "      <td>0.760647</td>\n",
       "      <td>-0.543753</td>\n",
       "      <td>-0.483555</td>\n",
       "      <td>-0.367930</td>\n",
       "      <td>0.528693</td>\n",
       "    </tr>\n",
       "    <tr>\n",
       "      <th>4</th>\n",
       "      <td>-1.730987</td>\n",
       "      <td>-1.020432</td>\n",
       "      <td>1.423849</td>\n",
       "      <td>1.256163</td>\n",
       "      <td>-0.386804</td>\n",
       "      <td>-0.123628</td>\n",
       "      <td>-0.467674</td>\n",
       "      <td>1.050371</td>\n",
       "      <td>-0.384286</td>\n",
       "      <td>-0.591429</td>\n",
       "      <td>-0.199892</td>\n",
       "      <td>0.796720</td>\n",
       "      <td>0.417733</td>\n",
       "      <td>0.178404</td>\n",
       "      <td>-0.483555</td>\n",
       "      <td>-0.367930</td>\n",
       "      <td>0.528693</td>\n",
       "    </tr>\n",
       "    <tr>\n",
       "      <th>...</th>\n",
       "      <td>...</td>\n",
       "      <td>...</td>\n",
       "      <td>...</td>\n",
       "      <td>...</td>\n",
       "      <td>...</td>\n",
       "      <td>...</td>\n",
       "      <td>...</td>\n",
       "      <td>...</td>\n",
       "      <td>...</td>\n",
       "      <td>...</td>\n",
       "      <td>...</td>\n",
       "      <td>...</td>\n",
       "      <td>...</td>\n",
       "      <td>...</td>\n",
       "      <td>...</td>\n",
       "      <td>...</td>\n",
       "      <td>...</td>\n",
       "    </tr>\n",
       "    <tr>\n",
       "      <th>5575</th>\n",
       "      <td>1.729193</td>\n",
       "      <td>-1.188159</td>\n",
       "      <td>1.110792</td>\n",
       "      <td>1.256163</td>\n",
       "      <td>-0.386804</td>\n",
       "      <td>-0.123628</td>\n",
       "      <td>-0.435835</td>\n",
       "      <td>-0.952045</td>\n",
       "      <td>-0.384286</td>\n",
       "      <td>0.636771</td>\n",
       "      <td>-1.381704</td>\n",
       "      <td>-1.085853</td>\n",
       "      <td>-0.613918</td>\n",
       "      <td>1.261638</td>\n",
       "      <td>0.383259</td>\n",
       "      <td>15.630991</td>\n",
       "      <td>-1.443964</td>\n",
       "    </tr>\n",
       "    <tr>\n",
       "      <th>5576</th>\n",
       "      <td>1.729814</td>\n",
       "      <td>0.405251</td>\n",
       "      <td>-1.080608</td>\n",
       "      <td>-0.338330</td>\n",
       "      <td>-0.386804</td>\n",
       "      <td>-0.123628</td>\n",
       "      <td>0.016344</td>\n",
       "      <td>1.050371</td>\n",
       "      <td>-0.384286</td>\n",
       "      <td>-0.591429</td>\n",
       "      <td>-1.618067</td>\n",
       "      <td>0.169195</td>\n",
       "      <td>-0.169291</td>\n",
       "      <td>-0.543753</td>\n",
       "      <td>0.022086</td>\n",
       "      <td>2.226489</td>\n",
       "      <td>-1.443964</td>\n",
       "    </tr>\n",
       "    <tr>\n",
       "      <th>5577</th>\n",
       "      <td>1.730435</td>\n",
       "      <td>-0.181795</td>\n",
       "      <td>0.797734</td>\n",
       "      <td>-0.338330</td>\n",
       "      <td>-0.386804</td>\n",
       "      <td>-0.123628</td>\n",
       "      <td>-0.463694</td>\n",
       "      <td>1.050371</td>\n",
       "      <td>-0.384286</td>\n",
       "      <td>-0.591429</td>\n",
       "      <td>-0.908979</td>\n",
       "      <td>0.796720</td>\n",
       "      <td>0.391578</td>\n",
       "      <td>-0.543753</td>\n",
       "      <td>-0.483555</td>\n",
       "      <td>-0.367930</td>\n",
       "      <td>0.528693</td>\n",
       "    </tr>\n",
       "    <tr>\n",
       "      <th>5578</th>\n",
       "      <td>1.729814</td>\n",
       "      <td>0.405251</td>\n",
       "      <td>-1.080608</td>\n",
       "      <td>-0.338330</td>\n",
       "      <td>-0.386804</td>\n",
       "      <td>-0.123628</td>\n",
       "      <td>0.016344</td>\n",
       "      <td>1.050371</td>\n",
       "      <td>-0.384286</td>\n",
       "      <td>-0.591429</td>\n",
       "      <td>-1.618067</td>\n",
       "      <td>0.169195</td>\n",
       "      <td>-0.169291</td>\n",
       "      <td>-0.543753</td>\n",
       "      <td>0.022086</td>\n",
       "      <td>2.226489</td>\n",
       "      <td>-1.443964</td>\n",
       "    </tr>\n",
       "    <tr>\n",
       "      <th>5579</th>\n",
       "      <td>1.730435</td>\n",
       "      <td>-0.181795</td>\n",
       "      <td>0.797734</td>\n",
       "      <td>-0.338330</td>\n",
       "      <td>-0.386804</td>\n",
       "      <td>-0.123628</td>\n",
       "      <td>-0.463694</td>\n",
       "      <td>1.050371</td>\n",
       "      <td>-0.384286</td>\n",
       "      <td>-0.591429</td>\n",
       "      <td>-0.908979</td>\n",
       "      <td>0.796720</td>\n",
       "      <td>0.391578</td>\n",
       "      <td>-0.543753</td>\n",
       "      <td>-0.483555</td>\n",
       "      <td>-0.367930</td>\n",
       "      <td>0.528693</td>\n",
       "    </tr>\n",
       "  </tbody>\n",
       "</table>\n",
       "<p>5580 rows × 17 columns</p>\n",
       "</div>"
      ],
      "text/plain": [
       "            0         1         2         3         4         5         6   \\\n",
       "0    -1.733470 -0.014067  0.797734 -0.338330  2.284442 -0.123628 -0.436753   \n",
       "1    -1.732849  1.243888  1.423849 -0.338330 -0.386804 -0.123628  0.129618   \n",
       "2    -1.732228 -0.936568  0.797734  1.256163 -0.386804 -0.123628 -0.388688   \n",
       "3    -1.731608 -0.601113 -0.141437  1.256163  0.948819 -0.123628 -0.036313   \n",
       "4    -1.730987 -1.020432  1.423849  1.256163 -0.386804 -0.123628 -0.467674   \n",
       "...        ...       ...       ...       ...       ...       ...       ...   \n",
       "5575  1.729193 -1.188159  1.110792  1.256163 -0.386804 -0.123628 -0.435835   \n",
       "5576  1.729814  0.405251 -1.080608 -0.338330 -0.386804 -0.123628  0.016344   \n",
       "5577  1.730435 -0.181795  0.797734 -0.338330 -0.386804 -0.123628 -0.463694   \n",
       "5578  1.729814  0.405251 -1.080608 -0.338330 -0.386804 -0.123628  0.016344   \n",
       "5579  1.730435 -0.181795  0.797734 -0.338330 -0.386804 -0.123628 -0.463694   \n",
       "\n",
       "            7         8         9         10        11        12        13  \\\n",
       "0     1.050371 -0.384286 -0.591429 -0.554435  0.796720 -0.765033 -0.543753   \n",
       "1    -0.952045  2.602227 -0.591429  1.218284 -0.772091 -0.404681 -0.543753   \n",
       "2    -0.952045  2.602227 -0.591429 -0.908979 -0.144567 -0.526736 -0.182675   \n",
       "3     1.050371 -0.384286 -0.591429  0.154652 -0.144567  0.760647 -0.543753   \n",
       "4     1.050371 -0.384286 -0.591429 -0.199892  0.796720  0.417733  0.178404   \n",
       "...        ...       ...       ...       ...       ...       ...       ...   \n",
       "5575 -0.952045 -0.384286  0.636771 -1.381704 -1.085853 -0.613918  1.261638   \n",
       "5576  1.050371 -0.384286 -0.591429 -1.618067  0.169195 -0.169291 -0.543753   \n",
       "5577  1.050371 -0.384286 -0.591429 -0.908979  0.796720  0.391578 -0.543753   \n",
       "5578  1.050371 -0.384286 -0.591429 -1.618067  0.169195 -0.169291 -0.543753   \n",
       "5579  1.050371 -0.384286 -0.591429 -0.908979  0.796720  0.391578 -0.543753   \n",
       "\n",
       "            14         15        16  \n",
       "0     2.559324   0.496876 -2.430292  \n",
       "1     1.259103   1.361683 -0.457635  \n",
       "2    -0.483555  -0.367930  0.528693  \n",
       "3    -0.483555  -0.367930  0.528693  \n",
       "4    -0.483555  -0.367930  0.528693  \n",
       "...        ...        ...       ...  \n",
       "5575  0.383259  15.630991 -1.443964  \n",
       "5576  0.022086   2.226489 -1.443964  \n",
       "5577 -0.483555  -0.367930  0.528693  \n",
       "5578  0.022086   2.226489 -1.443964  \n",
       "5579 -0.483555  -0.367930  0.528693  \n",
       "\n",
       "[5580 rows x 17 columns]"
      ]
     },
     "execution_count": 15,
     "metadata": {},
     "output_type": "execute_result"
    }
   ],
   "source": [
    "dataset"
   ]
  },
  {
   "cell_type": "markdown",
   "id": "ece30c4e",
   "metadata": {},
   "source": [
    "# Data spliting "
   ]
  },
  {
   "cell_type": "code",
   "execution_count": 16,
   "id": "2b89eff0",
   "metadata": {},
   "outputs": [],
   "source": [
    "X1=dataset\n",
    "y1=data.iloc[:,-1].values"
   ]
  },
  {
   "cell_type": "markdown",
   "id": "41a6a0c1",
   "metadata": {},
   "source": [
    "# Data Imbalancing"
   ]
  },
  {
   "cell_type": "code",
   "execution_count": 17,
   "id": "e6138195",
   "metadata": {},
   "outputs": [],
   "source": [
    "from imblearn.over_sampling import RandomOverSampler         #6"
   ]
  },
  {
   "cell_type": "code",
   "execution_count": 18,
   "id": "8d3e3486",
   "metadata": {},
   "outputs": [],
   "source": [
    "r=RandomOverSampler()\n",
    "x_data,y_data=r.fit_resample(X1,y1)"
   ]
  },
  {
   "cell_type": "code",
   "execution_count": 19,
   "id": "c5d93d84",
   "metadata": {},
   "outputs": [],
   "source": [
    "from collections import Counter                              #7"
   ]
  },
  {
   "cell_type": "code",
   "execution_count": 20,
   "id": "e01b6df4",
   "metadata": {},
   "outputs": [
    {
     "name": "stdout",
     "output_type": "stream",
     "text": [
      "Counter({0: 2958, 1: 2958})\n"
     ]
    }
   ],
   "source": [
    "print(Counter(y_data))"
   ]
  },
  {
   "cell_type": "code",
   "execution_count": 21,
   "id": "81b48ff8",
   "metadata": {},
   "outputs": [],
   "source": [
    "from sklearn.model_selection import train_test_split                 #8"
   ]
  },
  {
   "cell_type": "code",
   "execution_count": 22,
   "id": "f3bdd77d",
   "metadata": {},
   "outputs": [],
   "source": [
    "x_train,x_test,y_train,y_test=train_test_split(x_data,y_data,test_size=0.2,random_state=20)"
   ]
  },
  {
   "cell_type": "code",
   "execution_count": 23,
   "id": "63b13cb6",
   "metadata": {},
   "outputs": [],
   "source": [
    "from collections import Counter                                  #9"
   ]
  },
  {
   "cell_type": "code",
   "execution_count": 24,
   "id": "e4229222",
   "metadata": {},
   "outputs": [
    {
     "name": "stdout",
     "output_type": "stream",
     "text": [
      "Counter({1: 2372, 0: 2360})\n"
     ]
    }
   ],
   "source": [
    "print(Counter(y_train))"
   ]
  },
  {
   "cell_type": "code",
   "execution_count": 25,
   "id": "88f2f833",
   "metadata": {
    "scrolled": false
   },
   "outputs": [
    {
     "name": "stdout",
     "output_type": "stream",
     "text": [
      "Counter({0: 598, 1: 586})\n"
     ]
    }
   ],
   "source": [
    "print(Counter(y_test))"
   ]
  },
  {
   "cell_type": "code",
   "execution_count": null,
   "id": "eaaf7974",
   "metadata": {},
   "outputs": [],
   "source": []
  },
  {
   "cell_type": "markdown",
   "id": "f4465d04",
   "metadata": {},
   "source": [
    "# Logistic Regression"
   ]
  },
  {
   "cell_type": "code",
   "execution_count": 26,
   "id": "88caf8dd",
   "metadata": {},
   "outputs": [],
   "source": [
    "from sklearn.metrics import accuracy_score                  #10"
   ]
  },
  {
   "cell_type": "code",
   "execution_count": 27,
   "id": "10e04b6f",
   "metadata": {},
   "outputs": [
    {
     "name": "stdout",
     "output_type": "stream",
     "text": [
      "[1 1 1 ... 0 1 1]\n",
      "logistic_regression 78.04054054054053\n"
     ]
    }
   ],
   "source": [
    "from sklearn.linear_model import LogisticRegression            #11\n",
    "l1=LogisticRegression()\n",
    "l1.fit(x_train,y_train)\n",
    "\n",
    "y_pred1=l1.predict(x_test)\n",
    "print(y_pred1)\n",
    "\n",
    "ac1=accuracy_score(y_test,y_pred1)*100\n",
    "print(\"logistic_regression\",ac1)"
   ]
  },
  {
   "cell_type": "markdown",
   "id": "aeeb2ac9",
   "metadata": {},
   "source": [
    "# KNeighbors Classifier"
   ]
  },
  {
   "cell_type": "code",
   "execution_count": 28,
   "id": "2456deeb",
   "metadata": {},
   "outputs": [
    {
     "name": "stdout",
     "output_type": "stream",
     "text": [
      "[0 1 1 ... 1 1 1]\n",
      "KNN_Accuracy:  74.32432432432432\n"
     ]
    }
   ],
   "source": [
    "from sklearn.neighbors import KNeighborsClassifier                   #12\n",
    "k=KNeighborsClassifier(n_neighbors=5)\n",
    "k.fit(x_train,y_train)\n",
    "\n",
    "y_pred2=k.predict(x_test)\n",
    "print(y_pred2)\n",
    "\n",
    "ac2=accuracy_score(y_test,y_pred2)*100\n",
    "print(\"KNN_Accuracy: \",ac2)"
   ]
  },
  {
   "cell_type": "code",
   "execution_count": 29,
   "id": "46b3e685",
   "metadata": {},
   "outputs": [
    {
     "name": "stdout",
     "output_type": "stream",
     "text": [
      "[1 1 1 ... 1 1 1]\n",
      "SVM accuracy:  81.33445945945947\n"
     ]
    }
   ],
   "source": [
    "from sklearn.svm import SVC                               #13\n",
    "\n",
    "s=SVC()\n",
    "s.fit(x_train,y_train)\n",
    "\n",
    "y_pred3=s.predict(x_test)\n",
    "print(y_pred3)\n",
    "\n",
    "ac3=accuracy_score(y_test,y_pred3)*100\n",
    "print(\"SVM accuracy: \",ac3)"
   ]
  },
  {
   "cell_type": "markdown",
   "id": "5564778c",
   "metadata": {},
   "source": [
    "# Model imbalancing"
   ]
  },
  {
   "cell_type": "code",
   "execution_count": 30,
   "id": "fe8b417a",
   "metadata": {},
   "outputs": [],
   "source": [
    "from sklearn.model_selection import cross_val_score               #14\n",
    "from sklearn.model_selection import cross_val_predict             #15\n"
   ]
  },
  {
   "cell_type": "markdown",
   "id": "bd9d4d60",
   "metadata": {},
   "source": [
    "## KFold"
   ]
  },
  {
   "cell_type": "code",
   "execution_count": 31,
   "id": "483a6295",
   "metadata": {},
   "outputs": [],
   "source": [
    "from sklearn.model_selection import KFold                            #16"
   ]
  },
  {
   "cell_type": "code",
   "execution_count": 32,
   "id": "8dd53f11",
   "metadata": {},
   "outputs": [
    {
     "name": "stdout",
     "output_type": "stream",
     "text": [
      "KFold(n_splits=5, random_state=None, shuffle=True)\n",
      "[0.78141499 0.78775079 0.79809725 0.80549683 0.76744186]\n",
      "[1 1 1 ... 0 1 1]\n",
      "Cross_Val & Logistic:  78.80067567567568\n"
     ]
    }
   ],
   "source": [
    "kf=KFold(n_splits=5,shuffle=True)\n",
    "kf.get_n_splits(x)\n",
    "print(kf)\n",
    "\n",
    "sc=cross_val_score(l1,x_train,y_train,cv=kf)\n",
    "print(sc)\n",
    "y_pred4=cross_val_predict(l1,x_test,y_test)\n",
    "print(y_pred4)\n",
    "\n",
    "ac4=accuracy_score(y_test,y_pred4)*100\n",
    "print(\"Cross_Val & Logistic: \",ac4)"
   ]
  },
  {
   "cell_type": "code",
   "execution_count": 33,
   "id": "58ee3857",
   "metadata": {},
   "outputs": [
    {
     "name": "stdout",
     "output_type": "stream",
     "text": [
      "KFold(n_splits=5, random_state=None, shuffle=True)\n",
      "[0.75079197 0.7687434  0.74524313 0.75687104 0.72938689]\n",
      "[1 0 1 ... 0 1 1]\n",
      "Cross_Val & KNN:  71.0304054054054\n"
     ]
    }
   ],
   "source": [
    "\n",
    "kf=KFold(n_splits=5,shuffle=True)\n",
    "kf.get_n_splits(x)\n",
    "print(kf)\n",
    "\n",
    "sc=cross_val_score(k,x_train,y_train,cv=kf)\n",
    "print(sc)\n",
    "y_pred5=cross_val_predict(k,x_test,y_test)\n",
    "print(y_pred5)\n",
    "\n",
    "ac5=accuracy_score(y_test,y_pred5)*100\n",
    "print(\"Cross_Val & KNN: \",ac5)"
   ]
  },
  {
   "cell_type": "code",
   "execution_count": 34,
   "id": "7bbd360e",
   "metadata": {},
   "outputs": [
    {
     "name": "stdout",
     "output_type": "stream",
     "text": [
      "KFold(n_splits=5, random_state=None, shuffle=True)\n",
      "[0.82259768 0.80042239 0.81606765 0.83192389 0.79704017]\n",
      "[1 0 1 ... 1 1 1]\n",
      "Cross_Val & SVM:  80.15202702702703\n"
     ]
    }
   ],
   "source": [
    "kf=KFold(n_splits=5,shuffle=True)\n",
    "kf.get_n_splits(x)\n",
    "print(kf)\n",
    "\n",
    "sc=cross_val_score(s,x_train,y_train,cv=kf)\n",
    "print(sc)\n",
    "y_pred6=cross_val_predict(s,x_test,y_test)\n",
    "print(y_pred6)\n",
    "\n",
    "ac6=accuracy_score(y_test,y_pred6)*100\n",
    "print(\"Cross_Val & SVM: \",ac6)"
   ]
  },
  {
   "cell_type": "markdown",
   "id": "5d023090",
   "metadata": {},
   "source": [
    "## Stratified KFold"
   ]
  },
  {
   "cell_type": "code",
   "execution_count": 35,
   "id": "12d63394",
   "metadata": {},
   "outputs": [],
   "source": [
    "from sklearn.model_selection import StratifiedKFold             #17"
   ]
  },
  {
   "cell_type": "code",
   "execution_count": 36,
   "id": "fb9773bc",
   "metadata": {},
   "outputs": [
    {
     "name": "stdout",
     "output_type": "stream",
     "text": [
      "[1 1 1 ... 0 1 1]\n",
      "79.05708691740469\n",
      "Accuracy Of Logistic With Stratified KFold 78.80067567567568\n"
     ]
    }
   ],
   "source": [
    "skf=StratifiedKFold(n_splits=5,shuffle=True)\n",
    "skf.get_n_splits(x_train,y_train)\n",
    "skf\n",
    "\n",
    "sc1=cross_val_score(l1,x_train,y_train,cv=skf)\n",
    "y_pred7=cross_val_predict(l1,x_test,y_test)\n",
    "print(y_pred7)\n",
    "\n",
    "print(np.mean(sc1)*100)\n",
    "\n",
    "ac7=accuracy_score(y_pred7,y_test)*100\n",
    "print(\"Accuracy Of Logistic With Stratified KFold\",ac7)"
   ]
  },
  {
   "cell_type": "code",
   "execution_count": 37,
   "id": "bc81f2e0",
   "metadata": {},
   "outputs": [
    {
     "name": "stdout",
     "output_type": "stream",
     "text": [
      "[1 0 1 ... 0 1 1]\n",
      "74.40824591287497\n",
      "Accuracy Of KNeighbors With Stratified KFold 71.0304054054054\n"
     ]
    }
   ],
   "source": [
    "skf=StratifiedKFold(n_splits=5,shuffle=True)\n",
    "skf.get_n_splits(x_train,y_train)\n",
    "skf\n",
    "\n",
    "sc2=cross_val_score(k,x_train,y_train,cv=skf)\n",
    "y_pred8=cross_val_predict(k,x_test,y_test)\n",
    "print(y_pred8)\n",
    "\n",
    "print(np.mean(sc2)*100)\n",
    "\n",
    "ac8=accuracy_score(y_pred8,y_test)*100\n",
    "print(\"Accuracy Of KNeighbors With Stratified KFold\",ac8)"
   ]
  },
  {
   "cell_type": "code",
   "execution_count": 38,
   "id": "baee3c76",
   "metadata": {},
   "outputs": [
    {
     "name": "stdout",
     "output_type": "stream",
     "text": [
      "[1 0 1 ... 1 1 1]\n",
      "81.1077822253874\n",
      "Accuracy Of SVM With Stratified KFold 80.15202702702703\n"
     ]
    }
   ],
   "source": [
    "skf=StratifiedKFold(n_splits=5,shuffle=True)\n",
    "skf.get_n_splits(x_train,y_train)\n",
    "skf\n",
    "\n",
    "sc3=cross_val_score(s,x_train,y_train,cv=skf)\n",
    "y_pred9=cross_val_predict(s,x_test,y_test)\n",
    "print(y_pred9)\n",
    "\n",
    "print(np.mean(sc3)*100)\n",
    "\n",
    "ac9=accuracy_score(y_pred9,y_test)*100\n",
    "print(\"Accuracy Of SVM With Stratified KFold\",ac9)"
   ]
  },
  {
   "cell_type": "markdown",
   "id": "c0d429a3",
   "metadata": {},
   "source": [
    "# Ensemble Technique"
   ]
  },
  {
   "cell_type": "markdown",
   "id": "0f478ec3",
   "metadata": {},
   "source": [
    "## Voting Classifier"
   ]
  },
  {
   "cell_type": "code",
   "execution_count": 39,
   "id": "0752fb3f",
   "metadata": {},
   "outputs": [],
   "source": [
    "from sklearn.ensemble import VotingClassifier           #18"
   ]
  },
  {
   "cell_type": "code",
   "execution_count": 40,
   "id": "e6f7ba27",
   "metadata": {},
   "outputs": [
    {
     "name": "stdout",
     "output_type": "stream",
     "text": [
      "[1 1 1 ... 1 1 1]\n",
      "80.48986486486487\n"
     ]
    }
   ],
   "source": [
    "maxvote=VotingClassifier(estimators=[(\"logistic\",l1),(\"KNN\",k),(\"SVM\",s)])\n",
    "maxvote.fit(x_train,y_train)\n",
    "y_mv=maxvote.predict(x_test)\n",
    "print(y_mv)\n",
    "\n",
    "\n",
    "ac10=accuracy_score(y_mv,y_test)*100\n",
    "print(ac10)"
   ]
  },
  {
   "cell_type": "markdown",
   "id": "8a9721bf",
   "metadata": {},
   "source": [
    "## Bagging Classifier  with logistic"
   ]
  },
  {
   "cell_type": "code",
   "execution_count": 41,
   "id": "be273c39",
   "metadata": {},
   "outputs": [
    {
     "name": "stdout",
     "output_type": "stream",
     "text": [
      "[1 1 1 ... 0 1 1]\n",
      "Accuracy_score Bagging classifier 78.37837837837837\n"
     ]
    }
   ],
   "source": [
    "from sklearn.ensemble import BaggingClassifier       #19\n",
    "bg=BaggingClassifier(n_estimators=5,base_estimator=l1) \n",
    "bg.fit(x_train,y_train)\n",
    "y_bg=bg.predict(x_test)\n",
    "print(y_bg)\n",
    "\n",
    "ac11=accuracy_score(y_bg,y_test)*100\n",
    "\n",
    "print(\"Accuracy_score Bagging classifier\",ac11)"
   ]
  },
  {
   "cell_type": "markdown",
   "id": "2fac2a66",
   "metadata": {},
   "source": [
    "## Bagging Classifier with KNN"
   ]
  },
  {
   "cell_type": "code",
   "execution_count": 42,
   "id": "984cd6ba",
   "metadata": {},
   "outputs": [
    {
     "name": "stdout",
     "output_type": "stream",
     "text": [
      "[0 1 1 ... 1 1 1]\n",
      "Accuracy_score Bagging classifier 75.4222972972973\n"
     ]
    }
   ],
   "source": [
    "from sklearn.ensemble import BaggingClassifier       \n",
    "bg=BaggingClassifier(n_estimators=5,base_estimator=k) \n",
    "bg.fit(x_train,y_train)\n",
    "y_bg1=bg.predict(x_test)\n",
    "print(y_bg1)\n",
    "\n",
    "ac12=accuracy_score(y_bg1,y_test)*100\n",
    "\n",
    "print(\"Accuracy_score Bagging classifier\",ac12)"
   ]
  },
  {
   "cell_type": "markdown",
   "id": "37398e86",
   "metadata": {},
   "source": [
    "# Bagging Classifier with SVM"
   ]
  },
  {
   "cell_type": "code",
   "execution_count": 43,
   "id": "077bb0cc",
   "metadata": {},
   "outputs": [
    {
     "name": "stdout",
     "output_type": "stream",
     "text": [
      "[1 1 1 ... 0 1 1]\n",
      "Accuracy_score Bagging classifier 81.6722972972973\n"
     ]
    }
   ],
   "source": [
    "from sklearn.ensemble import BaggingClassifier       \n",
    "bg=BaggingClassifier(n_estimators=5,base_estimator=s) \n",
    "bg.fit(x_train,y_train)\n",
    "y_bg2=bg.predict(x_test)\n",
    "print(y_bg)\n",
    "\n",
    "ac13=accuracy_score(y_bg2,y_test)*100\n",
    "\n",
    "print(\"Accuracy_score Bagging classifier\",ac13)"
   ]
  },
  {
   "cell_type": "markdown",
   "id": "8de11807",
   "metadata": {},
   "source": [
    "# Confusion_Matrix"
   ]
  },
  {
   "cell_type": "code",
   "execution_count": 44,
   "id": "91a80f69",
   "metadata": {},
   "outputs": [],
   "source": [
    "from sklearn.metrics import confusion_matrix      #20"
   ]
  },
  {
   "cell_type": "code",
   "execution_count": 45,
   "id": "efb70a42",
   "metadata": {},
   "outputs": [
    {
     "name": "stdout",
     "output_type": "stream",
     "text": [
      "[[479  98]\n",
      " [119 488]]\n"
     ]
    }
   ],
   "source": [
    "cm=confusion_matrix(y_bg2,y_test)\n",
    "print(cm)"
   ]
  },
  {
   "cell_type": "code",
   "execution_count": null,
   "id": "c64c69e6",
   "metadata": {},
   "outputs": [],
   "source": []
  }
 ],
 "metadata": {
  "kernelspec": {
   "display_name": "Python 3 (ipykernel)",
   "language": "python",
   "name": "python3"
  },
  "language_info": {
   "codemirror_mode": {
    "name": "ipython",
    "version": 3
   },
   "file_extension": ".py",
   "mimetype": "text/x-python",
   "name": "python",
   "nbconvert_exporter": "python",
   "pygments_lexer": "ipython3",
   "version": "3.9.12"
  }
 },
 "nbformat": 4,
 "nbformat_minor": 5
}
